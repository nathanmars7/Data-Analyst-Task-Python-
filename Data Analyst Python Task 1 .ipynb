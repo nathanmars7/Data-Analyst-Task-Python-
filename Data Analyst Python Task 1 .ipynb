{
 "cells": [
  {
   "cell_type": "code",
   "execution_count": null,
   "id": "e3ca64ec-f30a-4526-aa33-9f20d5fb3b26",
   "metadata": {},
   "outputs": [],
   "source": [
    "import pandas as pd\n",
    "import numpy as np\n",
    "import datetime\n",
    "from IPython.display import display\n",
    "\n",
    "## importing the raw data and creating tables that we needed \n",
    "\n",
    "drive                  = pd.read_csv(\"~/Downloads/analyst-challenge/analyst-challenge-data/drive.csv\", header = 0)\n",
    "vehicle                = pd.read_csv(\"~/Downloads/analyst-challenge/analyst-challenge-data/vehicle.csv\", header = 0)\n",
    "vehicle.rename(columns = {'Model':'model'}, inplace = True)\n",
    "drive_vehicle          = pd.merge(drive[[\"datetime\",\"vehicle_spec_id\",\"trip_id\",\"velocity\"]], \n",
    "                         vehicle[[\"vehicle_spec_id\",\"make\",\"model\"]], \n",
    "                         how =\"left\", on = [\"vehicle_spec_id\"])\n",
    "make_model             = drive_vehicle[[\"trip_id\",\"make\",\"model\"]].drop_duplicates()\n",
    "make_model_indexed     = make_model.set_index('trip_id')\n",
    "\n",
    "display(make_model.isnull().sum().sort_values(ascending = False))\n",
    "display(drive_vehicle.loc[drive_vehicle['make'].isnull() == False].trip_id.nunique())\n",
    "## only 194 trips could join to the raw vehicle data with vehicle_spec_id and 119 are NaN that means 75 trips with not null\n",
    "\n",
    "\n",
    "## converting to PST time and creating date_pst column\n",
    "drive.set_index(['datetime','trip_id'])\n",
    "drive['date_pst']     = pd.to_datetime(drive['datetime'], format = '%Y-%m-%d %H:%M:%S')\n",
    "drive['date_pst'].dt.tz_localize('utc').dt.tz_convert('US/Central')\n",
    "drive['date_pst']     = pd.to_datetime(drive['date_pst']).dt.date\n",
    "#display(drive)\n",
    "\n",
    "\n",
    "display(drive[drive['trip_id'] == \"00922df3be5a4589ab385d0c2da2dd81\"])\n",
    "\n",
    "## assuming every trip was one second long and creating aggregate table called daily_trip grouped by PST date then trip_id\n",
    "\n",
    "\n",
    "daily_trip = drive.groupby(['trip_id','date_pst']).agg(start            = pd.NamedAgg(column=\"datetime\", aggfunc =\"min\"),\n",
    "                                                       end              = pd.NamedAgg(column=\"datetime\", aggfunc =\"max\"),\n",
    "                                                       trip_count       = pd.NamedAgg(column=\"datetime\", aggfunc =\"count\"),\n",
    "                                                       average_velocity = pd.NamedAgg(column =\"velocity\", aggfunc=\"mean\"))\n",
    "\n",
    "\n",
    "daily_trip['start'] =  pd.to_datetime(daily_trip['start'],  format ='%Y-%m-%d %H:%M:%S')\n",
    "daily_trip['end']   =  pd.to_datetime(daily_trip['end'],    format ='%Y-%m-%d %H:%M:%S')\n",
    "#print(Daily_trip.to_string())\n",
    "\n",
    "daily_trip['trip_duration_minutes'] = daily_trip['end'] - Daily_trip['start']\n",
    "daily_trip['trip_duration_minutes'] = daily_trip['trip_duration_minutes']/np.timedelta64(1,'m')\n",
    "\n",
    "\n",
    "#daily_trip['trip_count'].sum()-daily_trip['trip_duration_minutes'].sum()*60\n",
    "## This should be 202 to confirm that trips are 1 seconds long\n",
    "\n",
    "## When calculating distance_travelled using speed instead of velocity will be more accurate, however we only have velocity in the raw data \n",
    "## so we will neglect the errors from velocity being a vector\n",
    "\n",
    "daily_trip['distance_travelled']    = daily_trip['average_velocity']* daily_trip['trip_duration_minutes']/60\n",
    "daily_trip\n",
    "\n",
    "## Bringing in the make and model into the final result and transform the dataframe into desired output\n",
    "\n",
    "daily_trip_resetindex        = daily_trip.reset_index(level = [0,1])\n",
    "daily_trip_indexed           = daily_trip_resetindex.set_index('trip_id')\n",
    "daily_trip_final             = pd.merge(daily_trip_indexed,make_model_indexed,on='trip_id')\n",
    "daily_trip_final             = daily_trip_final.drop(columns = ['start', 'end','trip_count','average_velocity'])\n",
    "daily_trip_final['date_pst'] =  pd.to_datetime(daily_trip_final['date_pst'], format = '%Y-%m-%d')\n",
    "daily_trip_final.reset_index(inplace = True)\n",
    "daily_trip_final             = daily_trip_final.set_index(['date_pst','trip_id'])\n",
    "display(daily_trip_final[['make', 'model', 'trip_duration_minutes','distance_travelled']])\n",
    "\n"
   ]
  },
  {
   "cell_type": "code",
   "execution_count": null,
   "id": "84d3e8da-761b-43a8-82c6-bafd89786012",
   "metadata": {},
   "outputs": [],
   "source": [
    "print(vehicle.apply(lambda col: col.nunique()))"
   ]
  },
  {
   "cell_type": "markdown",
   "id": "181d9c38-f7f9-434f-aba7-80495bc3fd03",
   "metadata": {},
   "source": [
    "## Trip SQL"
   ]
  },
  {
   "cell_type": "code",
   "execution_count": null,
   "id": "c7def06f-13e2-48de-a16e-9a9a83ee6b8b",
   "metadata": {
    "tags": []
   },
   "outputs": [],
   "source": [
    "import sqlite3\n",
    "# install the ipython-sql libray\n",
    "!pip install ipython-sql\n",
    "\n",
    "# We will sqlite3 library and create a connection\n",
    "conn = sqlite3.connect('clearbanktask.db')\n",
    "\n",
    "vehicle.to_sql('vehicle', conn)\n",
    "drive.to_sql('drive', conn)\n",
    "%load_ext sql\n",
    "\n",
    "%sql sqlite:///clearbanktask.db\n",
    " "
   ]
  },
  {
   "cell_type": "code",
   "execution_count": null,
   "id": "94d79311-b7c9-41a2-b364-017998f79356",
   "metadata": {},
   "outputs": [],
   "source": [
    "%%sql sqlite:// \n",
    "SELECT drive.trip_id, \n",
    "AVG(drive.eng_load/ 255)*100 as average_eng_load_perc, \n",
    "AVG(velocity) as average_velocity,\n",
    "((Max(fuel_level)- Min(fuel_level))/255)*fuel_tank_capacity as fuel_used  \n",
    "\n",
    "FROM drive inner join vehicle \n",
    "ON drive.vehicle_spec_id = vehicle.vehicle_spec_id \n",
    "GROUP BY drive.trip_id\n",
    "\n",
    "%sql SELECT drive.trip_id, AVG(drive.eng_load/ 255)*100 as average_eng_load_perc,AVG(velocity) as average_velocity,((Max(fuel_level)- Min(fuel_level))/255)*fuel_tank_capacity as fuel_used FROM drive inner join vehicle on drive.vehicle_spec_id = vehicle.vehicle_spec_id group by drive.trip_id\n",
    "\n",
    "\n"
   ]
  },
  {
   "cell_type": "markdown",
   "id": "b4106efb-d9cc-4a2b-8619-1bc6df6ab885",
   "metadata": {},
   "source": [
    "## NOTES"
   ]
  },
  {
   "cell_type": "code",
   "execution_count": null,
   "id": "b4647203-f843-4e90-937d-0b24240939b6",
   "metadata": {
    "tags": []
   },
   "outputs": [],
   "source": [
    "# 1. There are 2 rows in drive data with negative velocity\n",
    "\n",
    "%sql SELECT velocity,count(*) from drive where velocity <= 0 group by velocity order by count(*) desc"
   ]
  },
  {
   "cell_type": "code",
   "execution_count": null,
   "id": "0f9641e4-b126-433e-a7ce-e2de98e09f93",
   "metadata": {},
   "outputs": [],
   "source": [
    "# 2. Need to investingate into 388 records with 0 velocity as it might have impact in caluclating the distance_travelled. Distanc doesn't depend on direction\n",
    "\n",
    "%sql SELECT count(*) from drive where velocity = 0"
   ]
  },
  {
   "cell_type": "code",
   "execution_count": null,
   "id": "0ab2fb43-7bc4-401b-962e-e8d9f0596e85",
   "metadata": {},
   "outputs": [],
   "source": [
    "# 3. Confirming the there is 75 rows expected from the second output as non null make and model \n",
    "\n",
    "%sql SELECT count(distinct drive.trip_id) FROM drive inner join vehicle on drive.vehicle_spec_id = vehicle.vehicle_spec_id"
   ]
  },
  {
   "cell_type": "code",
   "execution_count": null,
   "id": "9e3f0a76-4efc-495e-991d-59191732c39e",
   "metadata": {},
   "outputs": [],
   "source": [
    "\n",
    "%sql SELECT name FROM sqlite_master WHERE type='table'"
   ]
  }
 ],
 "metadata": {
  "kernelspec": {
   "display_name": "Python 3 (ipykernel)",
   "language": "python",
   "name": "python3"
  },
  "language_info": {
   "codemirror_mode": {
    "name": "ipython",
    "version": 3
   },
   "file_extension": ".py",
   "mimetype": "text/x-python",
   "name": "python",
   "nbconvert_exporter": "python",
   "pygments_lexer": "ipython3",
   "version": "3.9.7"
  },
  "toc-autonumbering": false,
  "toc-showmarkdowntxt": false
 },
 "nbformat": 4,
 "nbformat_minor": 5
}
